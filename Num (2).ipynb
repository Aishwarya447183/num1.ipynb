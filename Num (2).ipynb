{
 "cells": [
  {
   "cell_type": "code",
   "execution_count": null,
   "id": "7acd95be-aaf0-4299-9417-9a68786fa846",
   "metadata": {},
   "outputs": [],
   "source": [
    "##Q1.Yes, there is a difference in the data type of variables list_ and array_list.\n",
    "\n",
    "The list_ variable is a Python list, while the array_list variable is a NumPy array.\n",
    "\n",
    "To print the data types of both variables, you can use the type() function in Python. Here's the code:\n",
    "\n"
   ]
  },
  {
   "cell_type": "code",
   "execution_count": 1,
   "id": "14ce7f4e-3b64-4bc1-b862-b84dbdaa3bfe",
   "metadata": {},
   "outputs": [
    {
     "name": "stdout",
     "output_type": "stream",
     "text": [
      "<class 'list'>\n",
      "<class 'numpy.ndarray'>\n"
     ]
    }
   ],
   "source": [
    "import numpy as np\n",
    "\n",
    "list_ = ['1', '2', '3', '4', '5']\n",
    "array_list = np.array(object=list_)\n",
    "\n",
    "print(type(list_))\n",
    "print(type(array_list))"
   ]
  },
  {
   "cell_type": "code",
   "execution_count": 2,
   "id": "ecd4e0be-a82e-42f7-be35-aac47468ee97",
   "metadata": {},
   "outputs": [
    {
     "name": "stdout",
     "output_type": "stream",
     "text": [
      "<class 'str'>\n",
      "<class 'str'>\n",
      "<class 'str'>\n",
      "<class 'str'>\n",
      "<class 'str'>\n",
      "<class 'numpy.str_'>\n",
      "<class 'numpy.str_'>\n",
      "<class 'numpy.str_'>\n",
      "<class 'numpy.str_'>\n",
      "<class 'numpy.str_'>\n"
     ]
    }
   ],
   "source": [
    "##Q2.Sure! You can use a for loop to iterate over each element of the list and array and then use the type() function to print the data type of each element. Here's the code:\n",
    "\n",
    "import numpy as np\n",
    "\n",
    "list_ = ['1', '2', '3', '4', '5']\n",
    "array_list = np.array(object=list_)\n",
    "\n",
    "# Print data type of each element in list_\n",
    "for element in list_:\n",
    "    print(type(element))\n",
    "\n",
    "# Print data type of each element in array_list\n",
    "for element in array_list:\n",
    "    print(type(element))\n"
   ]
  },
  {
   "cell_type": "code",
   "execution_count": 4,
   "id": "47577229-2962-4a8f-a0d3-18b9acebaf94",
   "metadata": {},
   "outputs": [
    {
     "name": "stdout",
     "output_type": "stream",
     "text": [
      "<class 'str'>\n",
      "<class 'str'>\n",
      "<class 'str'>\n",
      "<class 'str'>\n",
      "<class 'str'>\n",
      "<class 'numpy.int64'>\n",
      "<class 'numpy.int64'>\n",
      "<class 'numpy.int64'>\n",
      "<class 'numpy.int64'>\n",
      "<class 'numpy.int64'>\n"
     ]
    }
   ],
   "source": [
    "##Q3.Yes, there will be a difference in the data type of the elements present in list_ and array_list when array_list is defined with dtype=int. In this case, the elements in array_list will have a data type of int instead of numpy.str_. Here's the updated code to print the data types of each element in both list_ and array_list:\n",
    "\n",
    "import numpy as np\n",
    "\n",
    "list_ = ['1', '2', '3', '4', '5']\n",
    "array_list = np.array(object=list_, dtype=int)\n",
    "\n",
    "# Print data type of each element in list_\n",
    "for element in list_:\n",
    "    print(type(element))\n",
    "\n",
    "# Print data type of each element in array_list\n",
    "for element in array_list:\n",
    "    print(type(element))\n",
    "\n",
    "    ##For the new array_list, the output of the second loop will be:"
   ]
  },
  {
   "cell_type": "code",
   "execution_count": 5,
   "id": "dec09714-38d9-403a-8518-5a9583f6f5cf",
   "metadata": {},
   "outputs": [
    {
     "name": "stdout",
     "output_type": "stream",
     "text": [
      "Shape of num_array: (2, 3)\n",
      "Size of num_array: 6\n"
     ]
    }
   ],
   "source": [
    "##Q4.Sure! You can use the shape and size attributes of the numpy array to find its shape and size, respectively. Here's the code:\n",
    "\n",
    "import numpy as np\n",
    "\n",
    "num_list = [[1, 2, 3], [4, 5, 6]]\n",
    "num_array = np.array(object=num_list)\n",
    "\n",
    "# Find shape of num_array\n",
    "print(\"Shape of num_array:\", num_array.shape)\n",
    "\n",
    "# Find size of num_array\n",
    "print(\"Size of num_array:\", num_array.size)\n",
    "\n",
    "\n"
   ]
  },
  {
   "cell_type": "code",
   "execution_count": null,
   "id": "f72e3def-cee3-43de-bb92-3984bb9995cf",
   "metadata": {},
   "outputs": [],
   "source": [
    "Here, the shape attribute returns a tuple indicating the dimensions of the array. In this case, num_array has 2 rows and 3 columns, so the shape is (2, 3).\n",
    "\n",
    "The size attribute returns the total number of elements in the array. In this case, num_array has 6 elements, so the size is 6.\n"
   ]
  },
  {
   "cell_type": "code",
   "execution_count": 6,
   "id": "5467e576-f6e5-4a09-b26b-8ad87210f94d",
   "metadata": {},
   "outputs": [
    {
     "name": "stdout",
     "output_type": "stream",
     "text": [
      "[[0. 0. 0.]\n",
      " [0. 0. 0.]\n",
      " [0. 0. 0.]]\n"
     ]
    }
   ],
   "source": [
    "##Q5.Sure! You can use the np.zeros function to create a numpy array of 3x3 matrix containing zeros only. Here's the code:\n",
    "\n",
    "import numpy as np\n",
    "\n",
    "zero_array = np.zeros(shape=(3, 3))\n",
    "\n",
    "print(zero_array)"
   ]
  },
  {
   "cell_type": "code",
   "execution_count": null,
   "id": "e58b23d0-175b-462f-8b1e-f3e497f15529",
   "metadata": {},
   "outputs": [],
   "source": []
  }
 ],
 "metadata": {
  "kernelspec": {
   "display_name": "Python 3 (ipykernel)",
   "language": "python",
   "name": "python3"
  },
  "language_info": {
   "codemirror_mode": {
    "name": "ipython",
    "version": 3
   },
   "file_extension": ".py",
   "mimetype": "text/x-python",
   "name": "python",
   "nbconvert_exporter": "python",
   "pygments_lexer": "ipython3",
   "version": "3.10.8"
  }
 },
 "nbformat": 4,
 "nbformat_minor": 5
}
